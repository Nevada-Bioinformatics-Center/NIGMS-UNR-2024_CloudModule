











#Install the DADA2 and other packages
if (!requireNamespace("BiocManager", quietly = TRUE)) {
    install.packages("BiocManager")
}

if (!requireNamespace("dada2", quietly = TRUE)) {
    BiocManager::install("dada2")
}

if (!requireNamespace("devtools", quietly = TRUE)) {
    install.packages("devtools")
}

if (!requireNamespace("patchwork", quietly = TRUE)) {
    devtools::install("patchwork")
}


#Load the packages
library(dada2)
library(ggplot2)
library(patchwork)





# Download data directory from storage bucket
system("mkdir -p data/fastq")
system("aws s3 cp s3://nigms-module-data/fastqs/ data/fastq --recursive")
system("mkdir -p tax")
system("aws s3 cp s3://nigms-module-data/tax/ tax --recursive")


# Check files
path <- "data/fastq"
list.files(path)


# Forward and reverse fastq filenames have format: SAMPLENAME_L001_R1_001.fastq and SAMPLENAME_L001_R2_001.fastq
fnFs <- sort(list.files(path, pattern="_L001_R1_001.fastq", full.names = TRUE))
fnRs <- sort(list.files(path, pattern="_L001_R2_001.fastq", full.names = TRUE))


# Extract sample names
sample.names <- sapply(strsplit(basename(fnFs), "_"), `[`, 1)





# Display sample names and number of samples
cat("Sample names:\n")
cat(sample.names, sep = "\n")
cat("There are", length(sample.names), "samples")


# Save our data
saveRDS(sample.names, file = 'sampleNames.rds')





# View quality profiles of forward reads for the first 2 samples
plotQualityProfile(fnFs[1:2])





# We can create a plot for all of the samples and
p1 = plotQualityProfile(fnFs) +
  ggtitle('Forward Reads')

p2 = plotQualityProfile(fnRs)+
  ggtitle('Reverse Reads')



# Save the plot
ggsave('viz_data/plotQualityProfile.png', plot = p1 + p2, width = 18, height = 12, units = 'in', dpi = 600)





# View quality profiles of reverse reads for the first 2 samples
plotQualityProfile(fnRs[1:2])





# Place filtered files in filtered/ subdirectory
filtFs <- file.path(path, "filtered", paste0(sample.names, "_F_filt.fastq.gz"))
filtRs <- file.path(path, "filtered", paste0(sample.names, "_R_filt.fastq.gz"))
names(filtFs) <- names(filtRs) <- sample.names


# Set trimming standards first
out <- filterAndTrim(fnFs, filtFs, fnRs, filtRs, truncLen=c(200,130),
                     maxN=0, maxEE=c(2,5), trimLeft = c(0,0), truncQ=2, rm.phix=TRUE,
                     compress=TRUE, multithread=TRUE) 



# View outputs
head(out)











# Error model for forward reads
errF <- learnErrors(filtFs, multithread=TRUE)


# Error model for reverse reads
errR <- learnErrors(filtRs, multithread=TRUE)


# Save our outputs
saveRDS(errF,file="errF.rds")
saveRDS(errR,file="errR.rds")








# Plot forward reads estimated error rates
plotErrors(errF, nominalQ=TRUE) +
  ggtitle('errF')


# Plot reverse reads estimated error rates
plotErrors(errR, nominalQ = TRUE) +
  ggtitle('errR')








# Creating DADA object
dadaFs <- dada(filtFs, err=errF, multithread=TRUE) # filtered reads in unique sequences
dadaRs <- dada(filtRs, err=errR, multithread=TRUE)


# Review DADA object
dadaFs[[1]]





# Combine the forward and reverse reads into one
mergers <- mergePairs(dadaFs, filtFs, dadaRs, filtRs, verbose=TRUE)
# Inspect the merger data.frame from the first sample
head(mergers[[1]])





# View the dimensions of our merged samples 
seqtab  <- makeSequenceTable(mergers)
dim(seqtab)





# Inspect the distribution of sequence lengths
table(nchar(getSequences(seqtab))) # the length should be around 250





# Remove chimeras
seqtab.nochim <- removeBimeraDenovo(seqtab, method="consensus", multithread=TRUE, verbose=TRUE)


# New sequence table
dim(seqtab.nochim)
# Divide the new number of ASVs by the first table.
# This shows us what percentage was removed
sum(seqtab.nochim)/sum(seqtab)





# Save our data
saveRDS(seqtab.nochim, "seqtabnochim.rds")





getN <- function(x) sum(getUniques(x))
track <- cbind(out, sapply(dadaFs, getN), sapply(dadaRs, getN), sapply(mergers, getN), rowSums(seqtab.nochim),
               final_perc_reads_retained=round(rowSums(seqtab.nochim)/out[,1]*100, 1))
# formatting table before writing to file
colnames(track) <- c("input", "filtered", "denoisedF", "denoisedR", "merged", "nonchim","percent")
rownames(track) <- sample.names
track
write.table(track, "viz_data/read-count-tracking.txt", quote=FALSE, sep="\t")











# Read in Taxonomy
taxa <- assignTaxonomy(seqtab.nochim, "tax/silva_nr99_v138.1_train_set.fa.gz", multithread=TRUE)
taxa <- addSpecies(taxa, "tax/silva_species_assignment_v138.1.fa.gz")


# Let's take a look
taxa.print <- taxa # Removing sequence row names for display only
rownames(taxa.print) <- NULL
head(taxa.print)





# Save our data
saveRDS(taxa, "taxa.rds")





# Run the following command to take the quiz
IRdisplay::display_html('<iframe src="./questions/Quiz_Submodule2.html" width=100% height=250></iframe>')









