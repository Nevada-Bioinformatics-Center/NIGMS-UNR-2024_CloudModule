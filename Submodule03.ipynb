{
 "cells": [
  {
   "cell_type": "markdown",
   "metadata": {},
   "source": [
    "# Submodule 3: Taxonomic Classification and Diversity Analysis"
   ]
  },
  {
   "cell_type": "markdown",
   "metadata": {},
   "source": [
    "\n",
    "## Overview\n"
   ]
  },
  {
   "cell_type": "markdown",
   "metadata": {},
   "source": [
    "## Learning Objectives\n",
    "+ Perform taxonomic classification of 16S rRNA sequences\n",
    "+ Evaluate and explore rarefaction curves to assess sampling depth and species richness\n",
    "+ Analyze alpha and beta diversity within microbial communities\n"
   ]
  },
  {
   "cell_type": "markdown",
   "metadata": {},
   "source": [
    "# 1. Import Data\n",
    "\n",
    "### Files\n",
    " \n",
    " 1. **Food Frequency Questionnaire (FFQ):**\n",
    "    - This CSV file contains data from a food frequency questionnaire completed by study participants. It includes columns for participant identifiers (e.g., SampleID), demographic information (e.g., SEX, AGE), and food consumption frequencies and quantities (e.g., BREAKFASTSANDWICHFREQ, EGGSFREQ). This data will allow us to analyze dietary habits and link them with microbiome profiles.\n",
    " 2. **Lifestyle Questionnaire:**\n",
    "    - This text file contains responses to lifestyle questions, such as physical activity levels, smoking status, and other lifestyle factors. It has a row for each question, an answer key, and responses for individual participants in columns.\n",
    "   \n",
    " 3.  **FASTQ Files:**\n",
    "    - These files contain raw sequencing data from 16S rRNA sequencing. Each read in a FASTQ file has a sequence identifier, nucleotide sequence, and quality scores. \n",
    "\n",
    "Let's start by loading the survey files into DataFrames and performing some initial quality checks to ensure data integrity.\n",
    "\n",
    "## Import Survey Data\n",
    "\n",
    "### Step 1: Load the Survey Data\n",
    "Let's load both survey files:"
   ]
  },
  {
   "cell_type": "code",
   "execution_count": null,
   "metadata": {},
   "outputs": [],
   "source": [
    "# Install and load required packages\n",
    "if (!requireNamespace(\"dplyr\", quietly = TRUE)) {\n",
    "    install.packages(\"dplyr\")\n",
    "}\n",
    "\n",
    "if (!requireNamespace(\"ggplot2\", quietly = TRUE)) {\n",
    "    install.packages(\"ggplot2\")\n",
    "}\n",
    "\n",
    "\n",
    "library(\"dplyr\")\n",
    "library(\"ggplot2\")  "
   ]
  },
  {
   "cell_type": "code",
   "execution_count": null,
   "metadata": {},
   "outputs": [],
   "source": [
    "#Load in the data\n",
    "ffq <- read.csv('datach/FFQ_Data.csv')\n",
    "lsq <- read.csv(\"cleanMetaData.txt\", sep = '\\t')\n",
    "# Display the first few rows of the dataframe to understand its structure\n",
    "head(ffq)"
   ]
  },
  {
   "cell_type": "markdown",
   "metadata": {},
   "source": [
    "Our Food Frequency Questionaire has columns representing the Sample ID, Respondent ID number, and all the questions asked. The heading of the columns represents abbreviations for the questions. Now let's look at the dimensions of our data."
   ]
  },
  {
   "cell_type": "code",
   "execution_count": null,
   "metadata": {},
   "outputs": [],
   "source": [
    "# Full dimensions\n",
    "dim(ffq)\n",
    "# Number of row\n",
    "nrow(ffq)\n",
    "# Number of columns\n",
    "ncol(ffq)"
   ]
  },
  {
   "cell_type": "markdown",
   "metadata": {},
   "source": [
    "We can see that we have 100 participants (every row is a sample) and 1074 columns which means over 1000 food questions! Now let's look at the lifestyle survey. "
   ]
  },
  {
   "cell_type": "code",
   "execution_count": null,
   "metadata": {},
   "outputs": [],
   "source": [
    "# Display the first few rows of the dataframe to understand its structure\n",
    "head(lsq)"
   ]
  },
  {
   "cell_type": "markdown",
   "metadata": {},
   "source": [
    "Our Lifestyle Questionaire has columns representing the Sample ID and all the lifestyle questions asked. The heading of the columns represents abbreviations for the questions. Now let's look at the dimensions of our data."
   ]
  },
  {
   "cell_type": "code",
   "execution_count": null,
   "metadata": {},
   "outputs": [],
   "source": [
    "# Full dimensions\n",
    "dim(lsq)\n",
    "# Number of row\n",
    "nrow(lsq)\n",
    "# Number of columns\n",
    "ncol(lsq)"
   ]
  },
  {
   "cell_type": "markdown",
   "metadata": {},
   "source": [
    "We have less questions in this survey, only 33, and 96 participants."
   ]
  },
  {
   "cell_type": "markdown",
   "metadata": {},
   "source": [
    "### Step 2: Quick Quality Control Checks\n",
    "Let's perform several initial checks to assess data quality:\n",
    "\n",
    " 1. **Collect Intersection of Samples:** We need to find the Sample IDs in the FFQ data rows and in the LSQ data columns. \n"
   ]
  },
  {
   "cell_type": "code",
   "execution_count": null,
   "metadata": {},
   "outputs": [],
   "source": [
    "# Find sample intersection\n",
    "samples <- intersect(ffq$SampleID, lsq$SampleID)"
   ]
  },
  {
   "cell_type": "code",
   "execution_count": null,
   "metadata": {},
   "outputs": [],
   "source": [
    "length(samples)"
   ]
  },
  {
   "cell_type": "markdown",
   "metadata": {},
   "source": [
    " 2. **Basic Summary Statistics:** We can get an overview of the data, which can help identify outliers or unexpected values. We will look at the demographic questions in the FFQ and Lifestyle Questionnaire separately."
   ]
  },
  {
   "cell_type": "code",
   "execution_count": null,
   "metadata": {},
   "outputs": [],
   "source": [
    "# Summary statistics for the first 10 columns\n",
    "summary(ffq[, 1:9])\n"
   ]
  },
  {
   "cell_type": "code",
   "execution_count": null,
   "metadata": {},
   "outputs": [],
   "source": [
    "# Summary statistics for 3 columns\n",
    "summary(lsq[, 3:5])\n"
   ]
  },
  {
   "cell_type": "markdown",
   "metadata": {},
   "source": [
    "3. **Visualize Data:** Ensure the data looks accurate with exploratory visualizations."
   ]
  },
  {
   "cell_type": "code",
   "execution_count": null,
   "metadata": {},
   "outputs": [],
   "source": [
    "# Load necessary library\n",
    "library(ggplot2)\n",
    "\n",
    "# Set up the plotting theme\n",
    "theme_set(theme_minimal())\n",
    "\n",
    "# 1. Bar plot for Sex distribution\n",
    "# Bar plot for Sex distribution without modifying the original data\n",
    "ggplot(ffq, aes(x = factor(SEX, levels = c(1, 2), labels = c(\"Male\", \"Female\")))) +\n",
    "  geom_bar(fill = \"#0073C2FF\") +  # Blue color for bars\n",
    "  labs(title = \"Distribution of Sex\", x = \"Sex\", y = \"Count\") +\n",
    "  theme(plot.title = element_text(hjust = 0.5), axis.title = element_text(size = 20),\n",
    "    axis.text = element_text(size = 18))\n"
   ]
  },
  {
   "cell_type": "code",
   "execution_count": null,
   "metadata": {},
   "outputs": [],
   "source": [
    "# Load necessary library\n",
    "library(ggplot2)\n",
    "\n",
    "# Set up the plotting theme\n",
    "theme_set(theme_minimal())\n",
    "\n",
    "ggplot(lsq, aes(x = factor(Sex))) +\n",
    "  geom_bar(fill = \"#0073C2FF\") +  # Blue color for bars\n",
    "  labs(title = \"Distribution of Sex\", x = \"Sex\", y = \"Count\") +\n",
    "  theme(plot.title = element_text(hjust = 0.5), axis.title = element_text(size = 20),\n",
    "        axis.text = element_text(size = 18))\n"
   ]
  },
  {
   "cell_type": "code",
   "execution_count": null,
   "metadata": {},
   "outputs": [],
   "source": [
    "# 2. Histogram for Age distribution\n",
    "# Dropping NA values for AGE\n",
    "ggplot(ffq, aes(x = AGE)) +\n",
    "  geom_histogram(bins = 10, fill = \"lightgreen\", color = \"black\") +\n",
    "  labs(title = \"Age Distribution\", x = \"Age\", y = \"Frequency\") +\n",
    "  theme(plot.title = element_text(hjust = 0.5), axis.title = element_text(size = 20),\n",
    "    axis.text = element_text(size = 18))\n"
   ]
  },
  {
   "cell_type": "code",
   "execution_count": null,
   "metadata": {},
   "outputs": [],
   "source": [
    "ggplot(lsq, aes(x = Age)) +\n",
    "  geom_histogram(bins = 10, fill = \"lightgreen\", color = \"black\") +\n",
    "  labs(title = \"Age Distribution\", x = \"Age\", y = \"Frequency\") +\n",
    "  theme(plot.title = element_text(hjust = 0.5), axis.title = element_text(size = 20),\n",
    "        axis.text = element_text(size = 18))"
   ]
  },
  {
   "cell_type": "code",
   "execution_count": null,
   "metadata": {},
   "outputs": [],
   "source": [
    "# 3. Histogram for Weight distribution\n",
    "# Dropping NA values for WEIGHT\n",
    "ggplot(ffq, aes(x = WEIGHT)) +\n",
    "  geom_histogram(bins = 15, fill = \"lightcoral\", color = \"black\") +\n",
    "  labs(title = \"Weight Distribution\", x = \"Weight\", y = \"Frequency\") +\n",
    "  theme(plot.title = element_text(hjust = 0.5), axis.title = element_text(size = 20),\n",
    "    axis.text = element_text(size = 18))"
   ]
  },
  {
   "cell_type": "code",
   "execution_count": null,
   "metadata": {},
   "outputs": [],
   "source": [
    "ggplot(lsq, aes(x = Weight)) +\n",
    "  geom_histogram(bins = 15, fill = \"lightcoral\", color = \"black\") +\n",
    "  labs(title = \"Weight Distribution\", x = \"Weight\", y = \"Frequency\") +\n",
    "  theme(plot.title = element_text(hjust = 0.5), axis.title = element_text(size = 20),\n",
    "        axis.text = element_text(size = 18))\n"
   ]
  },
  {
   "cell_type": "markdown",
   "metadata": {},
   "source": [
    "### Step 3: Combine Metadata\n",
    "\n",
    "We have two different surveys, let's combine them into one so we only have one metadata file to work with. "
   ]
  },
  {
   "cell_type": "code",
   "execution_count": null,
   "metadata": {},
   "outputs": [],
   "source": [
    "# Load in data from Submodule 2\n",
    "sample.names <- readRDS('sampleNames.rds')\n",
    "taxa         <- readRDS(\"taxa.rds\")\n",
    "reads        <- readRDS(\"seqtabnochim.rds\")"
   ]
  },
  {
   "cell_type": "code",
   "execution_count": null,
   "metadata": {},
   "outputs": [],
   "source": [
    "# Merge data\n",
    "metadata <- merge(ffq, lsq, by = \"SampleID\", all = TRUE)\n",
    "# Rename samples to match FastQ files\n",
    "metadata$SampleID <- gsub(\"WP_\", \"WP-\", metadata$SampleID)"
   ]
  },
  {
   "cell_type": "markdown",
   "metadata": {},
   "source": [
    "We have a lot more samples in our metadata than we do sequenced, therefore we need to pull out only the samlpes who have sequenced reads from our metadata."
   ]
  },
  {
   "cell_type": "code",
   "execution_count": null,
   "metadata": {},
   "outputs": [],
   "source": [
    "# Add in a if they have sequences\n",
    "dfseqIndo <- data.frame(sampleNames = sample.names,\n",
    "                       inSeq       = rep('yes', length(sample.names)))\n",
    "# Only keep those who do\n",
    "metadata <- merge(dfseqIndo, metadata, by.x = 'sampleNames', by.y = 'SampleID', all.x = TRUE)\n",
    "colnames(metadata)[1] <- 'SampleID'\n",
    "rownames(metadata)    <- metadata$SampleID"
   ]
  },
  {
   "cell_type": "markdown",
   "metadata": {},
   "source": [
    "### Step 4: Asssign Taxonomy to our Sequencing Data\n",
    "\n",
    "We will be using the package `phyloseq` to analyze our microbiomes."
   ]
  },
  {
   "cell_type": "code",
   "execution_count": null,
   "metadata": {},
   "outputs": [],
   "source": [
    "# Assigning taxonomy\n",
    "library(phyloseq)\n",
    "ps <- phyloseq(otu_table(reads, taxa_are_rows = F),\n",
    "               tax_table(taxa),\n",
    "               sample_data(metadata))\n",
    "\n",
    "ps"
   ]
  },
  {
   "cell_type": "code",
   "execution_count": null,
   "metadata": {},
   "outputs": [],
   "source": [
    "write.table(otu_table(seqtab.nochim, taxa_are_rows = F), \n",
    "            \"ASV_table.txt\", row.names = TRUE, quote = FALSE, sep = '\\t')"
   ]
  },
  {
   "cell_type": "code",
   "execution_count": null,
   "metadata": {},
   "outputs": [],
   "source": [
    "library(vegan)\n",
    "library(dplyr)\n",
    "library(ggpubr)"
   ]
  },
  {
   "cell_type": "markdown",
   "metadata": {},
   "source": [
    "### Step 5: Data Analysis and Visualization \n",
    "\n",
    "#### Rarefaction Curves\n",
    "\n",
    "Rarefaction curves are essential tools in microbiome analysis used to assess the richness of microbial communities and the adequacy of sequencing depth. These curves plot the number of observed species against the number of sequencing reads, providing insight into species diversity within a sample.\n",
    "\n",
    "The shape of a rarefaction curve indicates whether sequencing captured the community’s full diversity: a plateau suggests that most species have been identified, while a steep incline indicates that additional sequencing may uncover more species. Rarefaction also enables comparisons across samples with varying sequencing depths, ensuring that observed differences in diversity are not artifacts of unequal sampling effort.\n",
    "\n",
    "Let's start by looking at the differences between sex and the number of animals in the house."
   ]
  },
  {
   "cell_type": "code",
   "execution_count": null,
   "metadata": {},
   "outputs": [],
   "source": [
    "# First edit some variables \n",
    "# Treat the number of animals as discrete not continuos\n",
    "metadata$num_animals = factor(metadata$num_animals, levels = c('0', '1', '2', '3', '4'))\n",
    "# Order BMI\n",
    "metadata$BMI_ordinal = factor(metadata$BMI_ordinal, levels = c('Healthy weight', 'Overweight', 'Obesity Class 1', 'Obesity Class 2 & 3'))"
   ]
  },
  {
   "cell_type": "code",
   "execution_count": null,
   "metadata": {},
   "outputs": [],
   "source": [
    "rare <- rarecurve(reads,step = 1000, tidy = TRUE)\n",
    "rare <- inner_join(rare, metadata, by=c(\"Site\"=\"SampleID\"))\n",
    "\n",
    "ggplot(rare, aes(x=Sample, y=Species, col=num_animals, linetype=Sex, group=Site))+\n",
    "  geom_line(linewidth = 2, alpha = 0.8)+\n",
    "  scale_color_manual(values = c('0' = '#f7b801', '1' = '#f18701', \n",
    "                                '2' = '#f35b04', '3' = '#780116', \n",
    "                                '4' = '#52006A')) +\n",
    "  theme_pubr(legend=\"right\") +\n",
    "  labs(x=\"Sample Size\")"
   ]
  },
  {
   "cell_type": "markdown",
   "metadata": {},
   "source": [
    "Now let's plot BMI and sex."
   ]
  },
  {
   "cell_type": "code",
   "execution_count": null,
   "metadata": {},
   "outputs": [],
   "source": [
    "ggplot(rare, aes(x=Sample, y=Species, col=BMI_ordinal, linetype=Sex, group=Site))+\n",
    "  geom_line(linewidth = 2, alpha = 0.8) +\n",
    "  scale_color_manual(values = c('Healthy weight' = '#f7b801', 'Overweight' = '#f18701', \n",
    "                                'Obesity Class 1' = '#f35b04', 'Obesity Class 2 & 3' = '#780116')) +\n",
    "  theme_pubr(legend=\"right\") +\n",
    "  labs(x=\"Sample Size\")"
   ]
  },
  {
   "cell_type": "markdown",
   "metadata": {},
   "source": [
    "#### Diversity in Microbiome\n",
    "\n",
    "Alpha and beta diversity are key concepts in microbiome studies used to understand the composition of microbial communities.\n",
    " - **Alpha diversity** refers to the diversity within a single sample, capturing the richness (number of species) and evenness (distribution of species). It provides insights into how diverse a community is at a specific site or condition. Common metrics include species richness, Simpson’s index, and the Shannon index.\n",
    " - **Beta diversity**, on the other hand, measures the variation in microbial communities between samples. It highlights differences in composition and can reveal patterns of microbial distribution across environments or conditions. Common beta diversity metrics include Bray-Curtis dissimilarity and UniFrac distances.\n",
    "\n",
    "##### Alpha Diversity\n",
    "\n",
    "Let's look at the alpha diversity in our samples with the **Shannon index**. The Shannon index measures both the richness and evenness of species within a sample. A higher Shannon index indicates greater diversity, while a value of 0 means only one species is present in the community."
   ]
  },
  {
   "cell_type": "code",
   "execution_count": null,
   "metadata": {},
   "outputs": [],
   "source": [
    "shannon <- diversity(reads, index = \"shannon\") %>%\n",
    "  as_tibble(rownames = \"SampleID\")%>%\n",
    "  inner_join(., metadata, by=\"SampleID\")"
   ]
  },
  {
   "cell_type": "code",
   "execution_count": null,
   "metadata": {},
   "outputs": [],
   "source": [
    "ggplot(shannon, aes(x=Sex, y=value, col=Sex))+\n",
    "  geom_boxplot(outlier.shape = NA)+\n",
    "  geom_jitter(width = 0.2) +\n",
    "  theme_pubr(legend=\"right\") +\n",
    "  labs(x=\"\",y=\"Shannon Weaver Index\") +\n",
    "  stat_compare_means(aes(x=Sex, y=value, col=Sex), hide.ns = F, method=\"t.test\",label = \"p.signif\",\n",
    "                     label.x = 1.5, label.y= 4.8, show.legend = F) +\n",
    "  theme(legend.position=\"none\")"
   ]
  },
  {
   "cell_type": "markdown",
   "metadata": {},
   "source": [
    "Let's look at BMI within sex."
   ]
  },
  {
   "cell_type": "code",
   "execution_count": null,
   "metadata": {},
   "outputs": [],
   "source": [
    "ggplot(shannon, aes(x=Sex, y=value, col=BMI_ordinal))+\n",
    "  geom_boxplot()+      # outlier.shape = NA\n",
    " # geom_jitter() +     # @ cassandra, if you get the jitter to work here, let me know what you did. I can't find my code and don't recall how to fix this\n",
    "  facet_grid(col=vars(Sex), scales = \"free_x\")+\n",
    "  scale_color_manual(values = c('Healthy weight' = '#f7b801', 'Overweight' = '#f18701', \n",
    "                                'Obesity Class 1' = '#f35b04', 'Obesity Class 2 & 3' = '#780116')) +\n",
    "  theme_pubr(legend=\"right\") +\n",
    "  labs(x=\"\",y=\"Shannon Weaver Index\") "
   ]
  },
  {
   "cell_type": "markdown",
   "metadata": {},
   "source": [
    "Next, let's look at the alpha diversity with the **Inverse Simpson Index**. The Inverse Simpson Index reflects both species richness and evenness within a community. It accounts for the number of species present and their relative abundances, emphasizing the dominance of common species. A higher Inverse Simpson value indicates greater diversity, as it signifies more species evenly distributed in the community. This index is particularly useful for understanding community composition and detecting dominance patterns in microbiome studies."
   ]
  },
  {
   "cell_type": "code",
   "execution_count": null,
   "metadata": {},
   "outputs": [],
   "source": [
    "invsimp<-diversity(reads, index = \"invsimpson\")%>%\n",
    "  as_tibble(rownames = \"SampleID\")%>%\n",
    "  inner_join(., metadata, by=\"SampleID\")"
   ]
  },
  {
   "cell_type": "code",
   "execution_count": null,
   "metadata": {},
   "outputs": [],
   "source": [
    "ggplot(invsimp, aes(x=Sex, y=value, col=Sex))+\n",
    "  geom_boxplot(outlier.shape = NA)+\n",
    "  geom_jitter(width = 0.2) +\n",
    "  theme_pubr(legend=\"right\") +\n",
    "  labs(x=\"\",y=\"Inverse Simpson Index\") +\n",
    "  stat_compare_means(aes(x=Sex, y=value, col=Sex), hide.ns = F, method=\"t.test\",label = \"p.signif\",\n",
    "                     label.x = 1.5, label.y= 60, show.legend = F) +\n",
    "  theme(legend.position=\"none\")"
   ]
  },
  {
   "cell_type": "markdown",
   "metadata": {},
   "source": [
    "##### Beta Diversity\n",
    "\n",
    "Non-metric Multidimensional Scaling (NMDS) is an ordination method used to visualize differences in community composition between samples, making it a key tool for analyzing beta diversity. It represents pairwise dissimilarities (e.g., Bray-Curtis distances) in a low-dimensional space, preserving the rank order of distances rather than their exact values.\n",
    "\n",
    "The result is a visual representation where samples with similar microbial communities appear closer together, while dissimilar communities are farther apart. NMDS is particularly useful for identifying patterns and grouping structures in complex ecological or microbiome datasets. The quality of the ordination is assessed using a stress value, with lower values indicating a better representation of the original data."
   ]
  },
  {
   "cell_type": "code",
   "execution_count": null,
   "metadata": {},
   "outputs": [],
   "source": [
    "library(tidyverse)\n",
    "library(dada2)\n",
    "library(vegan)\n",
    "library(ggvegan) \n",
    "library(ggpubr)\n",
    "library(rstatix)\n",
    "library(stringr)"
   ]
  },
  {
   "cell_type": "code",
   "execution_count": null,
   "metadata": {},
   "outputs": [],
   "source": [
    "nmds <- metaMDS(reads, distance = \"bray\", trymax = 40, autotransform = TRUE)\n",
    "nmds"
   ]
  },
  {
   "cell_type": "code",
   "execution_count": null,
   "metadata": {},
   "outputs": [],
   "source": [
    "nmds2 <- metaMDS(reads)\n",
    "plot(nmds2, type = \"t\")\n",
    "autoplot(nmds)"
   ]
  },
  {
   "cell_type": "code",
   "execution_count": null,
   "metadata": {},
   "outputs": [],
   "source": [
    "f_nmds <- fortify(nmds) %>%\n",
    "  subset(., score==\"sites\") %>%\n",
    "  inner_join(., metadata, by=c(\"label\"=\"SampleID\"))"
   ]
  },
  {
   "cell_type": "code",
   "execution_count": null,
   "metadata": {},
   "outputs": [],
   "source": [
    "ggplot(f_nmds)+\n",
    "  geom_point(aes(x=NMDS1,y=NMDS2, col=BMI_ordinal))+\n",
    "  theme_pubr(legend = \"right\")+\n",
    "  geom_abline(intercept = 0,slope = 0,linetype=\"dashed\", linewidth=0.3)+\n",
    "  geom_vline(aes(xintercept=0), linetype=\"dashed\", linewidth=0.3)+\n",
    "  geom_text(aes(x=NMDS1,y=NMDS2, col=BMI_ordinal, label=label))+\n",
    "  scale_color_manual(values = c('Healthy weight' = '#f7b801', 'Overweight' = '#f18701', \n",
    "                                'Obesity Class 1' = '#f35b04', 'Obesity Class 2 & 3' = '#780116')) +\n",
    "  labs(caption = \"Cloud add something here\")\n",
    "\n",
    "\n",
    "ggplot(f_nmds)+\n",
    "  geom_point(aes(x=NMDS1,y=NMDS2, col=num_animals))+\n",
    "  theme_pubr(legend = \"right\")+\n",
    "  geom_abline(intercept = 0,slope = 0,linetype=\"dashed\", linewidth=0.3)+\n",
    "  geom_vline(aes(xintercept=0), linetype=\"dashed\", linewidth=0.3)+\n",
    "  scale_color_manual(values = c('0' = '#e9d8a6', '1' = '#c7e9b4', \n",
    "                                '2' = '#41b6c4', '3' = '#225ea8', '4' = '#081d58')) +\n",
    "  geom_text(aes(x=NMDS1,y=NMDS2, col=num_animals, label=label))\n",
    "  "
   ]
  },
  {
   "cell_type": "markdown",
   "metadata": {},
   "source": [
    "---------------------------------------------------"
   ]
  },
  {
   "cell_type": "markdown",
   "metadata": {},
   "source": [
    "## Conclusion\n",
    "Provide an overview of the lessons and skills learned from the module."
   ]
  },
  {
   "cell_type": "markdown",
   "metadata": {},
   "source": [
    "## Clean up\n",
    "A reminder to shutdown VM and delete any relevant resources. <br><br>"
   ]
  },
  {
   "cell_type": "markdown",
   "metadata": {},
   "source": [
    "<br>"
   ]
  }
 ],
 "metadata": {
  "kernelspec": {
   "display_name": "R",
   "language": "R",
   "name": "ir"
  },
  "language_info": {
   "codemirror_mode": "r",
   "file_extension": ".r",
   "mimetype": "text/x-r-source",
   "name": "R",
   "pygments_lexer": "r",
   "version": "4.4.1"
  }
 },
 "nbformat": 4,
 "nbformat_minor": 4
}
