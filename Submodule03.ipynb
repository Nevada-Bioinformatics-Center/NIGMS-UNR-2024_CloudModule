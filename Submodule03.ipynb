{
 "cells": [
  {
   "cell_type": "markdown",
   "metadata": {},
   "source": [
    "# Submodule 3: Taxonomic Classification and Diversity Analysis"
   ]
  },
  {
   "cell_type": "markdown",
   "metadata": {},
   "source": [
    "\n",
    "## Overview\n"
   ]
  },
  {
   "cell_type": "markdown",
   "metadata": {},
   "source": [
    "## Learning Objectives\n",
    "+ Perform taxonomic classification of 16S rRNA sequences\n",
    "+ Evaluate and explore rarefaction curves to assess sampling depth and species richness\n",
    "+ Analyze alpha and beta diversity within microbial communities\n"
   ]
  },
  {
   "cell_type": "markdown",
   "metadata": {},
   "source": [
    "# 1. Import Data\n",
    "\n",
    "### Files\n",
    " \n",
    " 1. **Food Frequency Questionnaire (FFQ):**\n",
    "    - This CSV file contains data from a food frequency questionnaire completed by study participants. It includes columns for participant identifiers (e.g., SampleID), demographic information (e.g., SEX, AGE), and food consumption frequencies and quantities (e.g., BREAKFASTSANDWICHFREQ, EGGSFREQ). This data will allow us to analyze dietary habits and link them with microbiome profiles.\n",
    " 2. **Lifestyle Questionnaire:**\n",
    "    - This text file contains responses to lifestyle questions, such as physical activity levels, smoking status, and other lifestyle factors. It has a row for each question, an answer key, and responses for individual participants in columns.\n",
    "   \n",
    " 3.  **FASTQ Files:**\n",
    "    - These files contain raw sequencing data from 16S rRNA sequencing. Each read in a FASTQ file has a sequence identifier, nucleotide sequence, and quality scores. \n",
    "\n",
    "Let's start by loading the survey files into DataFrames and performing some initial quality checks to ensure data integrity.\n",
    "\n",
    "## Import Survey Data\n",
    "\n",
    "### Step 1: Load the Survey Data\n",
    "Let's load both survey files:"
   ]
  },
  {
   "cell_type": "code",
   "execution_count": null,
   "metadata": {},
   "outputs": [],
   "source": [
    "# Function to check and install required packages\n",
    "install_if_missing <- function(package) {\n",
    "  if (!require(package, character.only = TRUE)) {\n",
    "    install.packages(package, dependencies = TRUE)\n",
    "    library(package, character.only = TRUE)\n",
    "  }\n",
    "}\n",
    "\n",
    "# Install and load required packages\n",
    "install_if_missing(\"dplyr\")\n",
    "install_if_missing(\"ggplot2\")  "
   ]
  },
  {
   "cell_type": "code",
   "execution_count": null,
   "metadata": {},
   "outputs": [],
   "source": [
    "#Load in the data\n",
    "ffq <- read.csv('datach/FFQ_Data.csv')\n",
    "lsq <- read.csv('datach/LS_Data.txt', sep = '\\t', fileEncoding = \"ISO-8859-1\", fill = TRUE) # have to specify the separator as we are not reading in a csv\n",
    "\n",
    "# Display the first few rows of the dataframe to understand its structure\n",
    "head(ffq)"
   ]
  },
  {
   "cell_type": "markdown",
   "metadata": {},
   "source": [
    "Our Food Frequency Questionaire has columns representing the Sample ID, Respondent ID number, and all the questions asked. The heading of the columns represents abbreviations for the questions. Now let's look at the dimensions of our data."
   ]
  },
  {
   "cell_type": "code",
   "execution_count": null,
   "metadata": {},
   "outputs": [],
   "source": [
    "# Full dimensions\n",
    "dim(ffq)\n",
    "# Number of row\n",
    "nrow(ffq)\n",
    "# Number of columns\n",
    "ncol(ffq)"
   ]
  },
  {
   "cell_type": "markdown",
   "metadata": {},
   "source": [
    "We can see that we have 100 participants (every row is a sample) and 1074 columns which means over 1000 food questions! Now let's look at the lifestyle survey. "
   ]
  },
  {
   "cell_type": "code",
   "execution_count": null,
   "metadata": {},
   "outputs": [],
   "source": [
    "# Display the first few rows of the dataframe to understand its structure\n",
    "head(lsq)"
   ]
  },
  {
   "cell_type": "markdown",
   "metadata": {},
   "source": [
    "We can see that this table is different, with participants being in columns and the questions in rows. Let's look at the dimensions. Column names starting with \"WP_\" represent one of our sample participants."
   ]
  },
  {
   "cell_type": "code",
   "execution_count": null,
   "metadata": {},
   "outputs": [],
   "source": [
    "# Full dimensions\n",
    "dim(lsq)\n",
    "# Number of row\n",
    "nrow(lsq)\n",
    "# Number of columns\n",
    "ncol(lsq)"
   ]
  },
  {
   "cell_type": "markdown",
   "metadata": {},
   "source": [
    "We have less questions (rows) in this survey."
   ]
  },
  {
   "cell_type": "markdown",
   "metadata": {},
   "source": [
    "### Step 2: Quick Quality Control Checks\n",
    "Let's perform several initial checks to assess data quality:\n",
    "\n",
    " 1. **Collect Intersection of Samples:** We need to find the Sample IDs in the FFQ data rows and in the LSQ data columns. \n"
   ]
  },
  {
   "cell_type": "code",
   "execution_count": null,
   "metadata": {},
   "outputs": [],
   "source": [
    "# Find sample intersection\n",
    "intersect(ffq$SampleID, colnames(lsq)[-(1:2)])\n",
    "length(intersect(ffq$SampleID, colnames(lsq)[-(1:2)]))\n",
    "\n",
    "idx.samples = intersect(ffq$SampleID, colnames(lsq)[-(1:2)])\n"
   ]
  },
  {
   "cell_type": "markdown",
   "metadata": {},
   "source": [
    "We have 96 samples."
   ]
  },
  {
   "cell_type": "markdown",
   "metadata": {},
   "source": [
    " 2. **Basic Summary Statistics:** We can get an overview of the data, which can help identify outliers or unexpected values. We will only be looking at the demographic questions in the FFQ."
   ]
  },
  {
   "cell_type": "code",
   "execution_count": null,
   "metadata": {},
   "outputs": [],
   "source": [
    "# Summary statistics for the first 10 columns\n",
    "summary(ffq[, 1:9])\n"
   ]
  },
  {
   "cell_type": "markdown",
   "metadata": {},
   "source": [
    "3. **Visualize Data:** Ensure the data looks accurate with exploratory visualizations."
   ]
  },
  {
   "cell_type": "code",
   "execution_count": null,
   "metadata": {},
   "outputs": [],
   "source": [
    "# Load necessary library\n",
    "library(ggplot2)\n",
    "\n",
    "# Set up the plotting theme\n",
    "theme_set(theme_minimal())\n",
    "\n",
    "# 1. Bar plot for Sex distribution\n",
    "# Bar plot for Sex distribution without modifying the original data\n",
    "ggplot(ffq, aes(x = factor(SEX, levels = c(1, 2), labels = c(\"Male\", \"Female\")))) +\n",
    "  geom_bar(fill = \"#0073C2FF\") +  # Blue color for bars\n",
    "  labs(title = \"Distribution of Sex\", x = \"Sex\", y = \"Count\") +\n",
    "  theme(plot.title = element_text(hjust = 0.5), axis.title = element_text(size = 20),\n",
    "    axis.text = element_text(size = 18))\n",
    "\n",
    "# 2. Histogram for Age distribution\n",
    "# Dropping NA values for AGE\n",
    "ggplot(ffq, aes(x = AGE)) +\n",
    "  geom_histogram(bins = 10, fill = \"lightgreen\", color = \"black\") +\n",
    "  labs(title = \"Age Distribution\", x = \"Age\", y = \"Frequency\") +\n",
    "  theme(plot.title = element_text(hjust = 0.5), axis.title = element_text(size = 20),\n",
    "    axis.text = element_text(size = 18))\n",
    "\n",
    "# 3. Histogram for Weight distribution\n",
    "# Dropping NA values for WEIGHT\n",
    "ggplot(ffq, aes(x = WEIGHT)) +\n",
    "  geom_histogram(bins = 15, fill = \"lightcoral\", color = \"black\") +\n",
    "  labs(title = \"Weight Distribution\", x = \"Weight\", y = \"Frequency\") +\n",
    "  theme(plot.title = element_text(hjust = 0.5), axis.title = element_text(size = 20),\n",
    "    axis.text = element_text(size = 18))"
   ]
  },
  {
   "cell_type": "markdown",
   "metadata": {},
   "source": [
    "---------------------------------------------------"
   ]
  },
  {
   "cell_type": "markdown",
   "metadata": {},
   "source": [
    "## Conclusion\n",
    "Provide an overview of the lessons and skills learned from the module."
   ]
  },
  {
   "cell_type": "markdown",
   "metadata": {},
   "source": [
    "## Clean up\n",
    "A reminder to shutdown VM and delete any relevant resources. <br><br>"
   ]
  },
  {
   "cell_type": "markdown",
   "metadata": {},
   "source": [
    "<br>"
   ]
  }
 ],
 "metadata": {
  "kernelspec": {
   "display_name": "Python 3 (ipykernel)",
   "language": "python",
   "name": "python3"
  },
  "language_info": {
   "codemirror_mode": {
    "name": "ipython",
    "version": 3
   },
   "file_extension": ".py",
   "mimetype": "text/x-python",
   "name": "python",
   "nbconvert_exporter": "python",
   "pygments_lexer": "ipython3",
   "version": "3.12.4"
  }
 },
 "nbformat": 4,
 "nbformat_minor": 4
}
